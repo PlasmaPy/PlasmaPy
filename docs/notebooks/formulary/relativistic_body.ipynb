{
 "cells": [
  {
   "cell_type": "markdown",
   "id": "955ce3dd",
   "metadata": {},
   "source": [
    "# Relativistic bodies"
   ]
  },
  {
   "cell_type": "markdown",
   "id": "1c740ee3",
   "metadata": {},
   "source": [
    "\n",
    "This notebook shows how to use [plasmapy.formulary.relativity.RelativisticBody](https://docs.plasmapy.org/en/stable/formulary/index.html) to transform between different properties of a relativistic body."
   ]
  },
  {
   "cell_type": "markdown",
   "id": "f24a4eeb",
   "metadata": {},
   "source": [
    "## Contents"
   ]
  },
  {
   "cell_type": "markdown",
   "id": "3e87ef2d",
   "metadata": {},
   "source": [
    "1. [Introduction](#Introduction)"
   ]
  },
  {
   "cell_type": "markdown",
   "id": "d5b71af4",
   "metadata": {},
   "source": [
    "## Introduction"
   ]
  },
  {
   "cell_type": "markdown",
   "id": "1bb15c25",
   "metadata": {},
   "source": [
    "Let's start with some imports."
   ]
  },
  {
   "cell_type": "code",
   "execution_count": null,
   "id": "47720605",
   "metadata": {},
   "outputs": [],
   "source": [
    "import astropy.units as u\n",
    "\n",
    "from plasmapy.formulary import RelativisticBody"
   ]
  }
 ],
 "metadata": {
  "kernelspec": {
   "display_name": "Python 3 (ipykernel)",
   "language": "python",
   "name": "python3"
  },
  "language_info": {
   "codemirror_mode": {
    "name": "ipython",
    "version": 3
   },
   "file_extension": ".py",
   "mimetype": "text/x-python",
   "name": "python",
   "nbconvert_exporter": "python",
   "pygments_lexer": "ipython3",
   "version": "3.12.6"
  }
 },
 "nbformat": 4,
 "nbformat_minor": 5
}
