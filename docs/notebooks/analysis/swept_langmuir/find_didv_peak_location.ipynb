{
 "cells": [
  {
   "cell_type": "markdown",
   "id": "881e5b44-992f-45fb-b7b0-0ec3db38512d",
   "metadata": {},
   "source": [
    "# Swept Langmuir Analysis: Finding Peak Slope\n",
    "\n",
    "This notebook covers the use of the [**find_didv_peak_location()**](../../../api/plasmapy.analysis.swept_langmuir.plasma_potential.find_didv_peak_location.rst#find-didv-peak-location) function which finds the bias location associated with the peak slope of the swept Langmuir traces.\n",
    "\n",
    "The bias voltage at the peaks slope is often used as a rough estimate for the plasma potential, but will always be slightly lower than the actual plasma potential."
   ]
  },
  {
   "cell_type": "code",
   "execution_count": null,
   "id": "d60a04df-c4cc-4b16-956c-e1967d07d4c5",
   "metadata": {
    "editable": true,
    "slideshow": {
     "slide_type": ""
    },
    "tags": []
   },
   "outputs": [],
   "source": [
    "%matplotlib inline\n",
    "\n",
    "from pathlib import Path\n",
    "\n",
    "import matplotlib.pyplot as plt\n",
    "import numpy as np\n",
    "from scipy import signal\n",
    "\n",
    "from plasmapy.analysis import swept_langmuir as sla\n",
    "\n",
    "plt.rcParams[\"figure.figsize\"] = [10.5, 0.56 * 10.5]"
   ]
  },
  {
   "cell_type": "markdown",
   "id": "50e81f77-5218-43b4-aa4f-a5aece966c65",
   "metadata": {
    "editable": true,
    "slideshow": {
     "slide_type": ""
    },
    "tags": []
   },
   "source": [
    "## Contents:\n",
    "\n",
    "1. [How find_didv_peak_location() works](#How-find_didv_peak_location()-works)\n",
    "    1. [Notes about usage](#Notes-about-usage)\n",
    "    1. [Knobs to turn](#Knobs-to-turn)\n",
    "1. [Calculate the Floating Potential](#Calculate-the-Floating-Potential)\n",
    "    1. [Interpreting results](#Interpreting-results)\n",
    "    1. [Plotting results](#Plotting-results)"
   ]
  },
  {
   "cell_type": "markdown",
   "id": "d00a4864-f2c6-4606-ba19-a35ab420ac5b",
   "metadata": {},
   "source": [
    "## How `find_didv_peak_location()` works"
   ]
  },
  {
   "cell_type": "markdown",
   "id": "c8f84fdd-6ec3-4633-bb0c-d827635f66cc",
   "metadata": {},
   "source": [
    "## Calculate the Peak Slope"
   ]
  },
  {
   "cell_type": "code",
   "execution_count": null,
   "id": "ab816d3e-caf5-4654-a1e1-b4c7f15c1cb0",
   "metadata": {},
   "outputs": [],
   "source": [
    "# load data\n",
    "filename = \"Beckers2017_noisy.npy\"\n",
    "# filename = \"Pace2015.npy\"\n",
    "filepath = (Path.cwd() / \"..\" / \"..\" / \"langmuir_samples\" / filename).resolve()\n",
    "voltage, current = np.load(filepath)\n",
    "\n",
    "# voltage array needs to be monotonically increasing/decreasing\n",
    "voltage, current = sla.sort_sweep_arrays(voltage, current)\n",
    "\n",
    "# grabbing floating potential for future use\n",
    "vf, _ = sla.find_floating_potential(voltage, current)\n",
    "print(f\"floating potential = {vf:.2f} V\")"
   ]
  },
  {
   "cell_type": "markdown",
   "id": "8963f972-1159-4058-b313-400023f0ad14",
   "metadata": {},
   "source": [
    "### Interpreting results"
   ]
  },
  {
   "cell_type": "code",
   "execution_count": null,
   "id": "e46204b7-a825-4c3a-b00a-46af218a7a05",
   "metadata": {},
   "outputs": [],
   "source": [
    "results = sla.find_didv_peak_location(voltage, current, voltage_window=[vf, None])\n",
    "\n",
    "# bias at peak slope\n",
    "results[0]"
   ]
  },
  {
   "cell_type": "code",
   "execution_count": null,
   "id": "5a544261-3fef-4519-bcaa-489df4ab209a",
   "metadata": {},
   "outputs": [],
   "source": [
    "results[1].data_slice"
   ]
  },
  {
   "cell_type": "code",
   "execution_count": null,
   "id": "3f20ecd4-5a8f-46e7-8094-c5f0a859277c",
   "metadata": {},
   "outputs": [],
   "source": [
    "np.where(voltage >= -30)[0][0]"
   ]
  },
  {
   "cell_type": "markdown",
   "id": "759e0477-6fb2-4bd4-88d2-29bcd833265f",
   "metadata": {},
   "source": [
    "### Plotting results"
   ]
  },
  {
   "cell_type": "code",
   "execution_count": null,
   "id": "7ad1273f-69f8-49f2-bf5e-d9b63311e6fd",
   "metadata": {
    "editable": true,
    "nbsphinx-thumbnail": {
     "tooltip": "Peak dI/dV"
    },
    "slideshow": {
     "slide_type": ""
    },
    "tags": []
   },
   "outputs": [],
   "source": [
    "figwidth, figheight = plt.rcParams[\"figure.figsize\"]\n",
    "figheight = 1.5 * figheight\n",
    "fig, axs = plt.subplots(2, 1, figsize=[figwidth, figheight])\n",
    "_font_size = 12\n",
    "\n",
    "bias = results[0]\n",
    "extras = results[1]\n",
    "\n",
    "# first (I vs. V) plot\n",
    "axs[0].set_xlabel(\"Bias Voltage (V)\", fontsize=_font_size)\n",
    "axs[0].set_ylabel(\"Current (A)\", fontsize=_font_size)\n",
    "\n",
    "axs[0].plot(voltage, current,  label=\"Sweep Data\")\n",
    "\n",
    "ylim = axs[0].get_ylim()\n",
    "xlim = axs[0].get_xlim()\n",
    "axs[0].set_ylim(ylim)\n",
    "axs[0].axvline(bias, color=\"grey\")\n",
    "axs[0].fill_between(\n",
    "    [bias - extras.std, bias + extras.std],\n",
    "    2*[ylim[0]],\n",
    "    2*[ylim[1]],\n",
    "    color=\"grey\",\n",
    "    alpha=0.2,\n",
    ")\n",
    "\n",
    "txt = f\"${bias:.2f} \\\\pm {extras.std:.2f}$ V\\n\"\n",
    "txt_loc = [bias, ylim[1]]\n",
    "txt_loc = axs[0].transData.transform(txt_loc)\n",
    "txt_loc = axs[0].transAxes.inverted().transform(txt_loc)\n",
    "txt_loc[0] -= 0.02\n",
    "txt_loc[1] -= 0.15\n",
    "axs[0].text(\n",
    "    txt_loc[0],\n",
    "    txt_loc[1],\n",
    "    txt,\n",
    "    fontsize=\"large\",\n",
    "    transform=axs[0].transAxes,\n",
    "    ha=\"right\",\n",
    ")\n",
    "\n",
    "# second (dI/dV vs V) plot\n",
    "axs[1].set_xlabel(\"Bias Voltage (V)\", fontsize=_font_size)\n",
    "axs[1].set_ylabel(\"$dI/dV$ (A / V)\", fontsize=_font_size)\n",
    "\n",
    "axs[1].set_xlim(xlim)\n",
    "\n",
    "voltage_merge, current_merge = sla.merge_voltage_clusters(voltage, current, voltage_step_size=0)\n",
    "voltage_slice = voltage_merge[extras.data_slice]\n",
    "current_slice = current_merge[extras.data_slice]\n",
    "\n",
    "_colors = plt.get_cmap(\"OrRd\")(np.linspace(0.2, 0.8, len(extras.savgol_windows)))\n",
    "for ii, _window in enumerate(extras.savgol_windows):\n",
    "    v_smooth = signal.savgol_filter(voltage_slice, _window, 1)\n",
    "    c_smooth = signal.savgol_filter(current_slice, _window, 1)\n",
    "\n",
    "    didv = np.gradient(c_smooth, v_smooth)\n",
    "\n",
    "    axs[1].plot(\n",
    "        v_smooth[_window:-_window],\n",
    "        didv[_window:-_window],\n",
    "        color=_colors[ii],\n",
    "        label=f\"Savgol window {_window}\",\n",
    "    )\n",
    "\n",
    "ylim = axs[1].get_ylim()\n",
    "axs[1].set_ylim(ylim)\n",
    "\n",
    "axs[1].axvline(bias, color=\"grey\", zorder=100)\n",
    "axs[1].fill_between(\n",
    "    [bias - extras.std, bias + extras.std],\n",
    "    2*[ylim[0]],\n",
    "    2*[ylim[1]],\n",
    "    color=\"grey\",\n",
    "    alpha=0.2,\n",
    "    zorder=0\n",
    ")\n",
    "\n",
    "axs[1].legend();"
   ]
  },
  {
   "cell_type": "code",
   "execution_count": null,
   "id": "50eefb5e-788c-4796-a76f-c27f702eca3b",
   "metadata": {},
   "outputs": [],
   "source": []
  }
 ],
 "metadata": {
  "kernelspec": {
   "display_name": "Python 3 (ipykernel)",
   "language": "python",
   "name": "python3"
  },
  "language_info": {
   "codemirror_mode": {
    "name": "ipython",
    "version": 3
   },
   "file_extension": ".py",
   "mimetype": "text/x-python",
   "name": "python",
   "nbconvert_exporter": "python",
   "pygments_lexer": "ipython3",
   "version": "3.13.3"
  }
 },
 "nbformat": 4,
 "nbformat_minor": 5
}
