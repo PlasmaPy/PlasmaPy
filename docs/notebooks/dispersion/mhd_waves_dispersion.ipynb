{
 "cells": [
  {
   "cell_type": "markdown",
   "metadata": {},
   "source": [
    "# MHD Wave Dispersion Relations\n",
    "\n",
    "This notebook introduces the linear, ideal-magnetohydrodynamic (MHD) waves and their properties using PlasmaPy's `mhd_waves_` module."
   ]
  },
  {
   "cell_type": "code",
   "execution_count": 1,
   "metadata": {},
   "outputs": [],
   "source": [
    "import astropy.units as u\n",
    "import matplotlib.pyplot as plt\n",
    "import numpy as np\n",
    "\n",
    "from plasmapy.dispersion.analytical.mhd_waves_ import (\n",
    "    AlfvenWave,\n",
    "    FastMagnetosonicWave,\n",
    "    SlowMagnetosonicWave,\n",
    "    mhd_waves,\n",
    ")"
   ]
  },
  {
   "cell_type": "markdown",
   "metadata": {},
   "source": [
    "## Introduction"
   ]
  },
  {
   "cell_type": "markdown",
   "metadata": {},
   "source": [
    "### Set Up\n",
    "\n",
    "Before using the `mhd_waves_` module, we must provide an ion species and fundamental plasma parameters for the ideal-MHD plasma we want to work with. Here, we will use protons and provide four sets of parameters that differ only in temperature $T$ so that each plasma has a different plasma beta, the ratio between the plasma pressure $p = n k_B T$ and magnetic pressure $p_m = B^2 / (2 \\mu_0)$, or\n",
    "$$\n",
    "    \\beta = \\frac{p}{p_m} = \\frac{n k_B T}{B^2 / (2 \\mu_0)}\n",
    "$$\n",
    "where\n",
    "* $n$ is the number density\n",
    "* $k_B$ is the Boltzmann constant,\n",
    "* $B$ is the magnetic field strength, and\n",
    "* $\\mu_0$ is the vacuum magnetic permeability."
   ]
  },
  {
   "cell_type": "code",
   "execution_count": 2,
   "metadata": {},
   "outputs": [],
   "source": [
    "plasma_T = [\n",
    "    0.0 * u.K,      # beta = 0.00 (i.e., cold-plasma limit)\n",
    "    1.45e6 * u.K,   # beta = 0.50\n",
    "    3.45e6 * u.K,   # beta = 1.20\n",
    "    7.2e6 * u.K,    # beta = 2.50\n",
    "]\n",
    "\n",
    "plasma = [\n",
    "    {\n",
    "        'B': 1e-3 * u.T,\n",
    "        'density': 1e16 * u.m ** -3,\n",
    "        'ion': 'p+',\n",
    "        'T': T\n",
    "    } for T in plasma_T\n",
    "]"
   ]
  },
  {
   "cell_type": "markdown",
   "metadata": {},
   "source": [
    "Additionally, the following plotting-related code will also be helpful."
   ]
  },
  {
   "cell_type": "code",
   "execution_count": 3,
   "metadata": {},
   "outputs": [],
   "source": [
    "color = ['g', 'r', 'b']\n",
    "plt.rc('lines', linestyle='None', marker='.', markersize=1)\n",
    "\n",
    "labels = ['Alfvén', 'Fast', 'Slow']\n",
    "\n",
    "# Format axis\n",
    "\n",
    "\n",
    "def ax_format(ax):\n",
    "    ax.set(\n",
    "        xlim=(-2, 2),\n",
    "        ylim=(-2, 2),\n",
    "        xticks=range(-2,3),\n",
    "        yticks=range(-2,3),\n",
    "        aspect=1,\n",
    "    )\n",
    "    ax.grid()\n",
    "\n",
    "    # Plot arrow in direction of B\n",
    "    ax.text(0.85, 0.9, 'B', transform=ax.transAxes)\n",
    "    ax.arrow(0.8, 0.88, 0.1, 0, width=0.005, color='black', transform=ax.transAxes)\n",
    "\n",
    "# Add legend\n",
    "\n",
    "\n",
    "def fig_legend(fig):\n",
    "    handles, labels = fig.axes[1].get_legend_handles_labels()\n",
    "    fig.legend(handles, labels, loc='upper center', bbox_to_anchor=(0.5, 0.0), ncol=3, markerscale=8)"
   ]
  },
  {
   "cell_type": "markdown",
   "metadata": {},
   "source": [
    "### Derivation\n",
    "\n",
    "The MHD dispersion relation can be derived from the system of ideal-MHD equations consisting of the momentum equation, ideal induction equation, continuity equation, and adiabatic energy equation expressed as\n",
    "$$\n",
    "\\begin{align*}\n",
    "    \\rho \\left(\\frac{\\partial}{\\partial t} + \\mathbf{u}\\cdot\\nabla\\right) \\mathbf{u} - \\frac{1}{\\mu_0} (\\nabla \\times \\mathbf{B}) \\times \\mathbf{B} + \\nabla p &= 0, \\\\\n",
    "    \\frac{\\partial\\mathbf{B}}{\\partial t} - \\nabla \\times (\\mathbf{u} \\times \\mathbf{B}) &= 0, \\\\\n",
    "    \\frac{\\partial\\rho}{\\partial t} + \\nabla \\cdot (\\rho\\mathbf{u}) &= 0, \\\\\n",
    "    \\frac{d}{dt} \\left(\\frac{p}{\\rho^\\gamma}\\right) &= 0,\n",
    "\\end{align*}\n",
    "$$\n",
    "respectively, where the flow velocity $\\mathbf{u}$, magnetic field $\\mathbf{B}$, mass density $\\rho$, and plasma pressure $p$ are unknown and $\\gamma$ is the adiabatic index. We assume that the equilibrium is stationary, with a uniform and constant magnetic field, density, and plasma pressure. We then assume that the unknowns take the form\n",
    "$$\n",
    "\\begin{align*}\n",
    "    \\mathbf{u}(\\mathbf{r},t) &= \\mathbf{u}_1(\\mathbf{r},t), \\\\\n",
    "    \\mathbf{B}(\\mathbf{r},t) &= B_0 + \\mathbf{B}_1(\\mathbf{r},t), \\\\\n",
    "    \\rho(\\mathbf{r},t) &= \\rho_0 + \\rho_1(\\mathbf{r},t), \\\\\n",
    "    p(\\mathbf{r},t) &= p_0 + p_1(\\mathbf{r},t),\n",
    "\\end{align*}\n",
    "$$\n",
    "where subscripts of 0 indicate equilibrium quantities and subscripts of 1 indicate small-amplitude, first-order corrections to these equilibrium quantities. With these assumptions the system of ideal-MHD equations reduces to a system of linear equations:\n",
    "$$\n",
    "\\begin{align*}\n",
    "    \\rho_0 \\frac{\\partial\\mathbf{u}_1}{\\partial t} - \\frac{1}{\\mu_0} (\\nabla \\times \\mathbf{B}_1) \\times \\mathbf{B}_0 + \\nabla p_1 &= \\mathbf{0}, \\\\\n",
    "    \\frac{\\partial\\mathbf{B}_1}{\\partial t} - \\nabla \\times (\\mathbf{u}_1 \\times \\mathbf{B}_0) &= \\mathbf{0}, \\\\\n",
    "    \\frac{\\partial\\rho_1}{\\partial t} + \\rho_0\\nabla \\cdot \\mathbf{u}_1 &= 0, \\\\\n",
    "    \\frac{\\partial}{\\partial t} \\left(p_1 - \\frac{\\gamma p_0}{\\rho_0} \\rho_1\\right) &= 0.\n",
    "\\end{align*}\n",
    "$$\n",
    "\n",
    "Additionally, we can re-express this system in terms of the displacement of the plasma $\\boldsymbol{\\xi}_1(\\mathbf{r}, t) = \\int_0^t \\mathbf{u}_1(\\mathbf{r}, t') dt'$ by integrating the linearized continuity equation, adiabatic energy equation, and ideal induction equation with respect to time and solving for their respective perturbed quantities:\n",
    "$$\n",
    "\\begin{align*}\n",
    "    \\mathbf{B}_1 &= \\nabla \\times (\\boldsymbol{\\xi}_1 \\times \\mathbf{B}_0), \\\\\n",
    "    \\rho_1 &= - \\rho_0 \\nabla \\cdot \\boldsymbol{\\xi}_1, \\\\\n",
    "    p_1 &= - \\gamma p_0 \\nabla \\cdot \\boldsymbol{\\xi}_1.\n",
    "\\end{align*}\n",
    "$$\n",
    "Substituting these into the linearized momentum equation gives an expression in terms of the displacement that can then be reduced to a system of linear _algebraic_ equations. First performing Fourier analysis, we assume that solutions are of the form of a superposition of plane waves, $\\boldsymbol{\\xi}_1(\\mathbf{r}, t) \\sim \\exp [i(\\mathbf{k} \\cdot \\mathbf{r} - \\omega t)]$ for wavevectors $\\mathbf{k}$ and angular frequencies $\\omega$.\n",
    "\n",
    "The wavevector $\\mathbf{k}$ can also be expressed in terms of the angle $\\theta$ subtended by $\\mathbf{k}$ and $\\mathbf{B}_0$. This allows us to write $k_\\parallel = k \\cos\\theta$ and $k_\\perp = k \\sin\\theta$ where $k = |\\mathbf{k}|$.\n",
    "\n",
    "Next, without loss of generality, we use a right-handed Cartesian coordinate system in which the equilibrium magnetic field $\\mathbf{B}_0 = B_0 \\hat{\\mathbf{z}}$ lies along the $z$-axis and the wavevector $\\mathbf{k} = k_\\perp \\hat{\\mathbf{x}} + k_\\parallel \\hat{\\mathbf{z}}$ lies in the $xz$-plane where $\\hat{\\mathbf{x}}$ and $\\hat{\\mathbf{z}}$ are the unit vectors along the $x$- and $z$-axis, respectively. The linearized momentum equation then can be expressed as the system of linear algebraic equations\n",
    "$$\n",
    "    \\begin{pmatrix}\n",
    "        \\omega^2 - v_A^2 k^2 - c_s^2 k_\\perp^2 & 0 & -c_s^2 k_\\parallel k_\\perp \\\\\n",
    "        0 & \\omega^2 - v_A^2 k_\\parallel^2 & 0 \\\\\n",
    "        -c_s^2 k_\\parallel k_\\perp & 0 & \\omega^2 - c_s^2 k_\\parallel^2\n",
    "    \\end{pmatrix}\n",
    "    \\begin{pmatrix}\n",
    "        \\xi_{x1} \\\\ \\xi_{y1} \\\\ \\xi_{z1}\n",
    "    \\end{pmatrix}\n",
    "    =\n",
    "    \\begin{pmatrix}\n",
    "        0 \\\\ 0 \\\\ 0\n",
    "    \\end{pmatrix}\n",
    "$$\n",
    "where $v_A = \\sqrt{B_0/(\\mu_0 \\rho_0)}$ is the Alfvén speed and $c_s = \\sqrt{\\gamma p_0 / \\rho_0}$ is the sound speed."
   ]
  },
  {
   "cell_type": "markdown",
   "metadata": {},
   "source": [
    "This system of algebraic equations is of the form of an eigenvalue-eigenvector problem for eigenvalues $\\omega^2$. The three eigenvalues give the dispersion relations for the three MHD wave modes, and the corresponding eigenvectors give their polarizations. In order for there to be a non-trivial solution, the determinant of the coefficient matrix must be equal to zero. This condition gives the linear, ideal-MHD dispersion relation,\n",
    "$$\n",
    "    \\boxed{\n",
    "        \\left(\\omega^2 - v_A^2 k _\\parallel^2\\right) \\left(\\omega^4 - \\omega^2 k^2 c_{ms}^2 + k^2 k_\\parallel^2 v_A^2 c_s^2\\right) = 0\n",
    "    }\n",
    "$$\n",
    "where $c_{ms} = \\sqrt{v_A^2 + c_s^2}$ is the magnetosonic speed (the significance of which will be discussed later)."
   ]
  },
  {
   "cell_type": "markdown",
   "metadata": {},
   "source": [
    "## Alfvén Wave\n",
    "The solution\n",
    "$$\n",
    "    \\omega^2 = v_A^2 k^2 \\cos^2 \\theta\n",
    "$$\n",
    "to the MHD dispersion relation corresponds to the Alfvén wave. This mode is represented in PlasmaPy by the `AlfvenWave` class, which can be instantiated by providing fundamental plasma parameters as arguments."
   ]
  },
  {
   "cell_type": "code",
   "execution_count": 4,
   "metadata": {},
   "outputs": [],
   "source": [
    "alfven = AlfvenWave(**plasma[1])"
   ]
  },
  {
   "cell_type": "markdown",
   "metadata": {},
   "source": [
    "The Alfvén wave is associated with the eigenvector $\\boldsymbol{\\xi}_1 = \\boldsymbol{\\xi}_{y1} \\hat{\\mathbf{y}}$, indicating that plasma is displaced perpendicular to both the direction of propagation and the equilibrium magnetic field such that $\\mathbf{k} \\cdot \\mathbf{u}_1 = 0$ and $\\mathbf{B}_0 \\cdot \\mathbf{u}_1 = 0$, respectively. Thus, the Alfvén wave is transverse and incompressive, not associated with density or plasma pressure perturbations. Alfvén waves are instead driven by magnetic tension, a tension force along the magnetic field that acts to straighten bent field lines.\n",
    "\n",
    "For example, following a transverse deformation of a magnetic field line, magnetic tension will act as a restoring force to straighten the field line. Since the plasma is ideally conducting, the frozen-in condition applies, and displacement of the magnetic field is accompanied by displacement of the plasma (and vice versa). Therefore, as the bent magnetic field returns to its straight, equilibrium position, plasma is dragged along with the field and gains kinetic energy. When the field reaches its equilibrium position, the inertia of the plasma causes it to continue moving, dragging the magnetic field along with it thereby forming another transverse deformation in the field. The plasma and magnetic field eventually come to rest, and the process repeats."
   ]
  },
  {
   "cell_type": "markdown",
   "metadata": {},
   "source": [
    "Instances of the `AlfvenWave` class (along with instances of the `FastMagnetosonicWave` and `SlowMagnetosonicWave` classes introduced later) have attributes for the plasma beta, Alfvén speed, sound speed, and magnetosonic speed derived from the plasma parameters used to instantiate the class. For example,"
   ]
  },
  {
   "cell_type": "code",
   "execution_count": 5,
   "metadata": {},
   "outputs": [
    {
     "data": {
      "text/plain": [
       "{'Plasma beta': <Quantity 0.50314266>,\n",
       " 'Alfvén speed': <Quantity 218060.97295233 m / s>,\n",
       " 'Sound speed': <Quantity 141237.85875402 m / s>,\n",
       " 'Magnetosonic speed': <Quantity 259805.15905258 m / s>}"
      ]
     },
     "execution_count": 5,
     "metadata": {},
     "output_type": "execute_result"
    }
   ],
   "source": [
    "{\n",
    "    \"Plasma beta\": alfven.beta,\n",
    "    \"Alfvén speed\": alfven.alfven_speed,\n",
    "    \"Sound speed\": alfven.sound_speed,\n",
    "    \"Magnetosonic speed\": alfven.magnetosonic_speed\n",
    "}"
   ]
  },
  {
   "cell_type": "markdown",
   "metadata": {},
   "source": [
    "The angular frequency for a given wavenumber $k$ and angle $\\theta$ can be calculated using the `angular_frequency` method. The arguments for both $k$ and $\\theta$ accept single values:"
   ]
  },
  {
   "cell_type": "code",
   "execution_count": 6,
   "metadata": {},
   "outputs": [
    {
     "data": {
      "text/latex": [
       "$2.1806097 \\; \\mathrm{\\frac{rad}{s}}$"
      ],
      "text/plain": [
       "<Quantity 2.18060973 rad / s>"
      ]
     },
     "execution_count": 6,
     "metadata": {},
     "output_type": "execute_result"
    }
   ],
   "source": [
    "alfven.angular_frequency(1e-5 * u.rad / u.m, 0 * u.rad)"
   ]
  },
  {
   "cell_type": "markdown",
   "metadata": {},
   "source": [
    "as well as lists of values:"
   ]
  },
  {
   "cell_type": "code",
   "execution_count": 7,
   "metadata": {},
   "outputs": [
    {
     "data": {
      "text/latex": [
       "$[[2.1806097,~1.5419239,~1.3352384 \\times 10^{-16}],~\n",
       " [0.21806097,~0.15419239,~1.3352384 \\times 10^{-17}]] \\; \\mathrm{\\frac{rad}{s}}$"
      ],
      "text/plain": [
       "<Quantity [[2.18060973e+00, 1.54192393e+00, 1.33523836e-16],\n",
       "           [2.18060973e-01, 1.54192393e-01, 1.33523836e-17]] rad / s>"
      ]
     },
     "execution_count": 7,
     "metadata": {},
     "output_type": "execute_result"
    }
   ],
   "source": [
    "alfven.angular_frequency([1e-5, 1e-6] * u.rad / u.m, [0, np.pi / 4, np.pi / 2] * u.rad)"
   ]
  },
  {
   "cell_type": "markdown",
   "metadata": {},
   "source": [
    "where the $n\\text{th}$ row of the returned array holds values for the $n\\text{th}$ wavenumber and the $m\\text{th}$ column holds values for the $m\\text{th}$ angle."
   ]
  },
  {
   "cell_type": "markdown",
   "metadata": {},
   "source": [
    "### Phase Velocity\n",
    "\n",
    "The wavefront of a plane Alfvén wave propagates in the direction of a wavevector $\\mathbf{k}$, which need not be parallel with the equilbrium magnetic field. For nonzero $v_A$ and $k$, the angular frequency only vanishes when $\\mathbf{k}$ and $\\mathbf{B}_0$ are orthogonal such that $\\cos\\theta = 0$. This wavefront propagates with a phase velocity $v_{ph} = \\omega/k$ given by the expression\n",
    "$$\n",
    "    v_{ph}^2 = v_A^2 \\cos^2 \\theta.\n",
    "$$\n",
    "\n",
    "For a given $k$ and $\\theta$, the phase velocity can be calculated using the `phase_velocity` method. For example,"
   ]
  },
  {
   "cell_type": "code",
   "execution_count": 8,
   "metadata": {},
   "outputs": [
    {
     "data": {
      "text/latex": [
       "$154192.39 \\; \\mathrm{\\frac{m}{s}}$"
      ],
      "text/plain": [
       "<Quantity 154192.39268673 m / s>"
      ]
     },
     "execution_count": 8,
     "metadata": {},
     "output_type": "execute_result"
    }
   ],
   "source": [
    "k = 1e-5 * u.rad / u.m\n",
    "theta = np.pi / 4 * u.rad\n",
    "\n",
    "alfven.phase_velocity(k, theta)"
   ]
  },
  {
   "cell_type": "markdown",
   "metadata": {},
   "source": [
    "For a given $v_A$, the phase velocity is greatest—equal to the Alfvén speed—when $\\mathbf{k}$ and $\\mathbf{B}_0$ are parallel:"
   ]
  },
  {
   "cell_type": "code",
   "execution_count": 9,
   "metadata": {},
   "outputs": [
    {
     "data": {
      "text/latex": [
       "$[1,~1] \\; \\mathrm{}$"
      ],
      "text/plain": [
       "<Quantity [1., 1.]>"
      ]
     },
     "execution_count": 9,
     "metadata": {},
     "output_type": "execute_result"
    }
   ],
   "source": [
    "alfven.phase_velocity(k, [0, np.pi] * u.rad) / alfven.alfven_speed"
   ]
  },
  {
   "cell_type": "markdown",
   "metadata": {},
   "source": [
    "### Group Velocity\n",
    "\n",
    "While the phase velocity can be oblique to the magnetic field, the group velocity $\\mathbf{v}_g = d\\omega/d\\mathbf{k}$ is only ever directed along the magnetic field. It can be expressed as\n",
    "$$\n",
    "    \\mathbf{v}_g = \\pm\\, \\frac{\\mathbf{B_0}}{\\sqrt{\\mu_0 \\rho}} = \\pm\\, v_A\\, \\hat{\\mathbf{z}}.\n",
    "$$\n",
    "\n",
    "For a given $k$ and $\\theta$, the group velocity can be calculated using the `group_velocity` method:"
   ]
  },
  {
   "cell_type": "code",
   "execution_count": 10,
   "metadata": {},
   "outputs": [
    {
     "data": {
      "text/plain": [
       "[<Quantity 154192.39268673 m / s>, <Quantity [[-154192.39268673]] m / s>]"
      ]
     },
     "execution_count": 10,
     "metadata": {},
     "output_type": "execute_result"
    }
   ],
   "source": [
    "alfven.group_velocity(k, theta)"
   ]
  },
  {
   "cell_type": "markdown",
   "metadata": {},
   "source": [
    "where the first element of the returned list gives the component of the group velocity in the direction of $\\mathbf{k}$ and the second gives the component perpendicular to $\\mathbf{k}$ and in the direction of increasing $\\theta$."
   ]
  },
  {
   "cell_type": "code",
   "execution_count": 11,
   "metadata": {},
   "outputs": [
    {
     "data": {
      "text/plain": [
       "[<Quantity 154192.39268673 m / s>, <Quantity [[-154192.39268673]] m / s>]"
      ]
     },
     "execution_count": 11,
     "metadata": {},
     "output_type": "execute_result"
    }
   ],
   "source": [
    "vg = alfven.group_velocity(k, theta)\n",
    "vg"
   ]
  },
  {
   "cell_type": "markdown",
   "metadata": {},
   "source": [
    "Information and energy therefore only propagate along magnetic field lines even when the wavevector is oblique to the field."
   ]
  },
  {
   "cell_type": "markdown",
   "metadata": {},
   "source": [
    "## Magnetosonic Waves\n",
    "The solutions\n",
    "$$\n",
    "    \\omega^2 = \\frac{k^2}{2} \\left(c_{ms}^2 \\pm \\sqrt{c_{ms}^4 - 4 v_A^2 c_s^2 \\cos^2 \\theta}\\right)\n",
    "$$\n",
    "to the MHD dispersion relation correspond to the fast and slow magnetosonic waves; the upper sign gives the fast mode and the lower sign gives the slow mode. They are represented in PlasmaPy by the `FastMagnetosonicWave` and `SlowMagnetosonicWave` classes, respectively, and can be instantiated by providing fundamental plasma parameters as arguments."
   ]
  },
  {
   "cell_type": "code",
   "execution_count": 12,
   "metadata": {},
   "outputs": [],
   "source": [
    "fast = FastMagnetosonicWave(**plasma[1])\n",
    "slow = SlowMagnetosonicWave(**plasma[1])"
   ]
  },
  {
   "cell_type": "markdown",
   "metadata": {},
   "source": [
    "Both the fast and slow magnetosonic waves have eigenvectors that lie in the $\\mathbf{k}$–$\\mathbf{B}_0$-plane. As a result, they are essentially compressive but are neither transverse nor longitudinal. Furthermore, these eigenvectors, together with the eigenvector of the Alfvén wave, are mutually perpendicular.\n",
    "\n",
    "Both the fast and slow waves are driven by pressure gradients formed by the compression and rarefaction of the plasma and magnetic field in addition to magnetic tension. However, the fast and slow modes differ in the phase of their plasma and magnetic field perturbations: the fast mode is associated with in-phase perturbations, whereas the slow mode is associated with anti-phase perturbations."
   ]
  },
  {
   "cell_type": "markdown",
   "metadata": {},
   "source": [
    "\n",
    "### Phase Velocity\n",
    "The magnetosonic waves have phase velocity $v_\\pm$ given by the expression\n",
    "$$\n",
    "    v_\\pm^2 = \\frac{1}{2} \\left(c_{ms}^2 \\pm \\sqrt{c_{ms}^4 - 4 v_A^2 c_s^2 \\cos^2 \\theta}\\right)\n",
    "$$\n",
    "where the upper sign gives the phase velocity for the fast wave and the lower sign gives the phase velocity for the slow wave.\n",
    "\n",
    "For a given $k$ and $\\theta$, the phase velocities can be calculated using the `phase_velocity` method:"
   ]
  },
  {
   "cell_type": "code",
   "execution_count": 13,
   "metadata": {},
   "outputs": [
    {
     "data": {
      "text/plain": [
       "(<Quantity 243991.88639495 m / s>, <Quantity 89256.26052983 m / s>)"
      ]
     },
     "execution_count": 13,
     "metadata": {},
     "output_type": "execute_result"
    }
   ],
   "source": [
    "(fast.phase_velocity(k, theta), slow.phase_velocity(k, theta))"
   ]
  },
  {
   "cell_type": "markdown",
   "metadata": {},
   "source": [
    "### Group Velocity\n",
    "The magnetosonic waves have group velocity $\\mathbf{v}_{g \\pm}$ given by the expression\n",
    "$$\n",
    "    \\mathbf{v}_{g \\pm} = \\hat{\\mathbf{k}} v_{\\pm} + \\hat{\\boldsymbol{\\theta}} \\frac{d v_{\\pm}}{d\\theta}\n",
    "$$\n",
    "where $\\hat{\\mathbf{k}}$ and $\\hat{\\boldsymbol{\\theta}}$ are unit vectors in the direction of $\\mathbf{k}$ and increasing $\\theta$, respectively.\n",
    "\n",
    "For a given $k$ and $\\theta$, the group velocities can be calculated using the `group_velocity` method:"
   ]
  },
  {
   "cell_type": "code",
   "execution_count": 14,
   "metadata": {},
   "outputs": [
    {
     "data": {
      "text/plain": [
       "([<Quantity 243991.88639495 m / s>, <Quantity 37695.95073543 m / s>],\n",
       " [<Quantity 89256.26052983 m / s>, <Quantity [[-103046.06169688]] m / s>])"
      ]
     },
     "execution_count": 14,
     "metadata": {},
     "output_type": "execute_result"
    }
   ],
   "source": [
    "(fast.group_velocity(k, theta), slow.group_velocity(k, theta))"
   ]
  },
  {
   "cell_type": "markdown",
   "metadata": {},
   "source": [
    "### Properties\n",
    "The properties of the fast and slow magnetosonic waves strongly depend on the angle of propagation $\\theta$ and the parameter $\\beta = 2 c_s^2 / (\\gamma v_A^2)$ previously discussed.\n",
    "\n",
    "When $\\beta > 0$, both the fast and slow waves can propagate in directions oblique to the equilibrium magnetic field, being driven by magnetic tension, magnetic pressure gradients, and plasma pressure gradients. Additionally, for oblique waves, the phase speeds of fast waves are always _greater_ than the Alfvén speed, and the phase speeds of slow waves are always _less_ than the Alfvén speed.\n",
    "\n",
    "We will now consider some limiting cases."
   ]
  },
  {
   "cell_type": "markdown",
   "metadata": {},
   "source": [
    "#### Cold-Plasma Limit\n",
    "\n",
    "We will first consider the simplest case, the cold-plasma limit, i.e., $\\beta = 0$. In this case, slow waves are said to be \"frozen out\" and are not present, while fast waves propagate isotropically with phase velocities equal to the Alfvén speed."
   ]
  },
  {
   "cell_type": "code",
   "execution_count": 15,
   "metadata": {},
   "outputs": [
    {
     "data": {
      "text/latex": [
       "$[1,~1,~1,~1] \\; \\mathrm{}$"
      ],
      "text/plain": [
       "<Quantity [1., 1., 1., 1.]>"
      ]
     },
     "execution_count": 15,
     "metadata": {},
     "output_type": "execute_result"
    }
   ],
   "source": [
    "fast_cold = FastMagnetosonicWave(**plasma[0])\n",
    "fast_cold.phase_velocity(k, [0, np.pi / 3, 2 * np.pi / 3, np.pi] * u.rad) / fast_cold.alfven_speed"
   ]
  },
  {
   "cell_type": "markdown",
   "metadata": {},
   "source": [
    "When oblique to the field, the fast waves are driven by both magnetic tension and magnetic pressure gradients, and, when parallel to the field, they are driven only by magnetic tension (thus degenerating into Alfvén waves).\n",
    "\n",
    "When propagating perpendicular to the field, the fast waves are driven only by magnetic pressure gradients. As such, fast waves in the cold-plasma limit are sometimes referred to as _compressional Alfvén waves_. For example, a plane fast wave propagating perpendicular to the field in a cold plasma with homogeneous equilibrium density and magnetic field is associated with cospatial compression (rarefaction) of magnetic field lines and plasma. From compressed to rarefied regions there is a negative magnetic pressure gradient, which gives rise to a force directed across the magnetic field. The plasma and magnetic field thus move together from compressed to rarefied regions. However, the inertia of the plasma results in it together with the magnetic field overshooting the latter's equilibrium position, thereby forming new regions of compression and rarefaction. The process then repeats."
   ]
  },
  {
   "cell_type": "markdown",
   "metadata": {},
   "source": [
    "#### Perpendicular Propagation\n",
    "\n",
    "When $\\beta > 0$, the effects of plasma pressure must also be taken into account.\n",
    "\n",
    "Considering the case of a plane fast wave propagating perpendicular to the field but this time in a plasma with nonzero $\\beta$, the fast wave is still associated with cospatial compression (rarefaction) of magnetic field lines and plasma; however, from compressed to rarefied regions there are both negative magnetic and plasma pressure gradients. They together give rise to force directed across the magnetic field, and the plasma and magnetic field move together from compressed to rarefied regions. The inertia of the plasma results in the plasma and magnetic field overshooting their equilibria, thereby forming new regions of compression and rarefaction. The process then repeats.\n",
    "\n",
    "When propagating perpendicular to the field, the phase and group velocities of fast waves have magnitude equal to the _magnetosonic speed_ or _fast speed_,\n",
    "$$\n",
    "    c_{ms} = \\sqrt{v_A^2 + c_s^2},\n",
    "$$\n",
    "which is always greater than both the Alfvén and sound speeds, reflecting the contributions from both magnetic and plasma pressure."
   ]
  },
  {
   "cell_type": "code",
   "execution_count": 16,
   "metadata": {},
   "outputs": [
    {
     "data": {
      "text/plain": [
       "(<Quantity 1.>, <Quantity 1.>)"
      ]
     },
     "execution_count": 16,
     "metadata": {},
     "output_type": "execute_result"
    }
   ],
   "source": [
    "vph = fast.phase_velocity(k, np.pi / 2 * u.rad)\n",
    "vg = fast.group_velocity(k, np.pi / 2 * u.rad)\n",
    "vg_mag = np.sqrt(vg[0] ** 2 + vg[1] ** 2)\n",
    "\n",
    "(vph / fast.magnetosonic_speed, vg_mag / fast.magnetosonic_speed)"
   ]
  },
  {
   "cell_type": "markdown",
   "metadata": {},
   "source": [
    "\n",
    "In contrast to this behavior, slow waves cannot propagate perpendicular to the field. The phase velocities of slow waves tend to zero in the perpendicular direction while their group velocities tend toward what is referred to as the _tube speed_, _cusp speed_, or _slow speed_,\n",
    "$$\n",
    "    c_T = \\frac{v_A c_s}{\\sqrt{v_A^2 + c_s^2}},\n",
    "$$\n",
    "which is always less than both the Alfvén and sound speeds."
   ]
  },
  {
   "cell_type": "code",
   "execution_count": 17,
   "metadata": {},
   "outputs": [
    {
     "data": {
      "text/latex": [
       "$[[1,~0]] \\; \\mathrm{}$"
      ],
      "text/plain": [
       "<Quantity [[1.00000001, 0.        ]]>"
      ]
     },
     "execution_count": 17,
     "metadata": {},
     "output_type": "execute_result"
    }
   ],
   "source": [
    "tube_speed = slow.alfven_speed * slow.sound_speed / slow.magnetosonic_speed\n",
    "vg = slow.group_velocity(k, [89.99, 90] * u.deg)\n",
    "\n",
    "np.sqrt(vg[0] ** 2 + vg[1] ** 2) / tube_speed"
   ]
  },
  {
   "cell_type": "markdown",
   "metadata": {},
   "source": [
    "#### Parallel Propagation\n",
    "\n",
    "In general, fast and slow waves propagating parallel to the equilibrium magnetic field degenerate into either pure Alfvén waves or pure acoustic waves with the faster of the two identified with fast waves and the slower identified with slow waves."
   ]
  },
  {
   "cell_type": "code",
   "execution_count": 18,
   "metadata": {},
   "outputs": [
    {
     "name": "stdout",
     "output_type": "stream",
     "text": [
      "0.9999999999999999\n",
      "1.0\n",
      "1.0000000000000002\n",
      "0.9999999999999998\n"
     ]
    }
   ],
   "source": [
    "# `fast` and `slow` have beta < 1\n",
    "print(fast.phase_velocity(k, 0 * u.rad) / fast.alfven_speed)\n",
    "print(slow.phase_velocity(k, 0 * u.rad) / slow.sound_speed)\n",
    "\n",
    "fast_large_beta = FastMagnetosonicWave(**plasma[3])\n",
    "slow_large_beta = SlowMagnetosonicWave(**plasma[3])\n",
    "print(fast_large_beta.phase_velocity(k, 0 * u.rad) / fast_large_beta.sound_speed)\n",
    "print(slow_large_beta.phase_velocity(k, 0 * u.rad) / slow_large_beta.alfven_speed)"
   ]
  },
  {
   "cell_type": "markdown",
   "metadata": {},
   "source": [
    "## Plotting\n",
    "\n",
    "As has been established, the phase and group velocities of linear ideal MHD's Alfvén, fast, and slow waves all depend on the plasma beta, the angle $\\theta$ subtended by the wavevector and equilibrium magnetic field, or both. We can visualize these relationships using polar plots referred to as _Friedrichs diagrams_ (Friedrichs & Kranzer 1958). We will plot phase and group velocities for the fixed wavenumber $k = 10^{-5}\\ \\text{rad/m}$ and angles $0 \\leq \\theta < 2\\pi\\ \\text{rad}$,"
   ]
  },
  {
   "cell_type": "code",
   "execution_count": 19,
   "metadata": {},
   "outputs": [],
   "source": [
    "theta = np.linspace(0, np.pi * 2, 400) * u.rad"
   ]
  },
  {
   "cell_type": "markdown",
   "metadata": {},
   "source": [
    "Additionally, we will create four subplots using the four sets of fundamental plasma parameters of differing plasma betas extablished previously in the list `plasma`. For each set of parameters, we will use PlasmaPy's `mhd_waves` method to return a dictionary of Alfvén, fast, and slow wave objects instantiated with that set of parameters."
   ]
  },
  {
   "cell_type": "code",
   "execution_count": 20,
   "metadata": {},
   "outputs": [
    {
     "name": "stdout",
     "output_type": "stream",
     "text": [
      "Index: 0, β = 0.00\n",
      "Index: 1, β = 0.50\n",
      "Index: 2, β = 1.20\n",
      "Index: 3, β = 2.50\n"
     ]
    }
   ],
   "source": [
    "waves = [mhd_waves(**params_dict) for params_dict in plasma]\n",
    "\n",
    "for wave_dict_index, wave_dict in enumerate(waves):\n",
    "    print(f\"Index: {wave_dict_index}, β = {wave_dict[0].beta:.2f}\")"
   ]
  },
  {
   "cell_type": "markdown",
   "metadata": {},
   "source": [
    "Note that $\\beta = 1.20$ was chosen since if $\\gamma = 5/3$, as is the case here, then $\\beta = 1.20$ implies that $c_s^2 / v_A^2 = 1$.\n",
    "\n",
    "First, we will plot the phase velocities with Alfvén, fast, and slow waves in green, red, and blue, respectively."
   ]
  },
  {
   "cell_type": "code",
   "execution_count": 21,
   "metadata": {},
   "outputs": [
    {
     "data": {
      "image/png": "[encoded data removed]",
      "text/plain": [
       "<Figure size 600x600 with 4 Axes>"
      ]
     },
     "metadata": {},
     "output_type": "display_data"
    }
   ],
   "source": [
    "fig1, ax1 = plt.subplots(\n",
    "    nrows=2,\n",
    "    ncols=2,\n",
    "    figsize=(6, 6),\n",
    "    sharex='col',\n",
    "    sharey='row',\n",
    ")\n",
    "\n",
    "for row in range(2):\n",
    "    for col in range(2):\n",
    "        subplot_index = 2 * row + col\n",
    "\n",
    "        for mode_index, mode in enumerate(waves[subplot_index]):\n",
    "            vph_r = mode.phase_velocity(k, theta)\n",
    "            ax1[row][col].plot(\n",
    "                ((vph_r * np.cos(theta)) / mode.alfven_speed).value,\n",
    "                ((vph_r * np.sin(theta)) / mode.alfven_speed).value,\n",
    "                color[mode_index],\n",
    "                label=labels[mode_index]\n",
    "            )\n",
    "\n",
    "        ax_format(ax1[row][col])\n",
    "        text = rf'$\\beta = {waves[subplot_index][0].beta:.2f}$'\n",
    "        ax1[row][col].text(0.05, 0.9, text, transform=ax1[row][col].transAxes)\n",
    "\n",
    "    ax1[1][row].set_xlabel(r'$(v\\ /\\ v_A) \\ \\cos \\theta$')\n",
    "    ax1[row][0].set_ylabel(r'$(v\\ /\\ v_A) \\ \\sin \\theta$')\n",
    "\n",
    "fig_legend(fig1)\n",
    "\n",
    "fig1.suptitle('MHD Wave Phase Velocities')\n",
    "fig1.tight_layout()\n",
    "plt.show()"
   ]
  },
  {
   "cell_type": "markdown",
   "metadata": {},
   "source": [
    "Second, we will plot the group velocities with Alfvén, fast, and slow waves in green, red, and blue, respectively, and the Alfvén wave marker enlarged."
   ]
  },
  {
   "cell_type": "code",
   "execution_count": 22,
   "metadata": {},
   "outputs": [
    {
     "data": {
      "image/png": "[encoded data removed]",
      "text/plain": [
       "<Figure size 600x600 with 4 Axes>"
      ]
     },
     "metadata": {},
     "output_type": "display_data"
    }
   ],
   "source": [
    "fig2, ax2 = plt.subplots(\n",
    "    nrows=2,\n",
    "    ncols=2,\n",
    "    figsize=(6, 6),\n",
    "    sharex='col',\n",
    "    sharey='row',\n",
    ")\n",
    "\n",
    "for row in range(2):\n",
    "    for col in range(2):\n",
    "        subplot_index = 2 * row + col\n",
    "\n",
    "        for mode_index, mode in enumerate(reversed(waves[subplot_index])):\n",
    "            vg_r, vg_theta = mode.group_velocity(k, theta)\n",
    "\n",
    "            ax2[row][col].plot(\n",
    "                ((vg_r * np.cos(theta) + vg_theta * np.cos(theta + np.pi / 2 * u.rad)) / mode.alfven_speed).value,\n",
    "                ((vg_r * np.sin(theta) + vg_theta * np.sin(theta + np.pi / 2 * u.rad)) / mode.alfven_speed).value,\n",
    "                color[2 - mode_index],\n",
    "                markersize=1 if 2 - mode_index != 0 else 4,  # Enlarge Alfven marker\n",
    "            )\n",
    "\n",
    "        ax_format(ax2[row][col])\n",
    "        text = rf'$\\beta = {waves[subplot_index][0].beta:.2f}$'\n",
    "        ax2[row][col].text(0.05, 0.9, text, transform=ax2[row][col].transAxes)\n",
    "\n",
    "    ax2[1][row].set_xlabel(r'$(v\\ /\\ v_A) \\ \\cos \\theta$')\n",
    "    ax2[row][0].set_ylabel(r'$(v\\ /\\ v_A) \\ \\sin \\theta$')\n",
    "\n",
    "fig2.suptitle('MHD Wave Group Velocities')\n",
    "fig2.tight_layout()\n",
    "plt.show()"
   ]
  },
  {
   "cell_type": "markdown",
   "metadata": {},
   "source": [
    "## Bibliography\n",
    "\n",
    "* Bellan, Paul Murray (2006). _Fundamentals of Plasma Physics_. Cambridge: Cambridge University Press. ISBN 0521528003.\n",
    "* Boyd, T. J. M.; Sanderson, J.J. (2003). _The Physics of Plasmas_. Cambridge: Cambridge University Press. doi:10.1017/CBO9780511755750\n",
    "* Friedrichs, K. O.; Kranzer, H. (1958). \"Notes on Magneto-hydrodynamics VIII: Nonlinear Wave Motion\". New York University Report NYO 6486-VIII. https://archive.org/details/notesonmagnetohy08frie\n",
    "* Nakariakov, V. M. (2020). Magnetohydrodynamic Waves. _Oxford Research Encyclopedia of Physics_. doi:10.1093/acrefore/9780190871994.013.7\n",
    "* Somov, Boris V. (2012). _Plasma Astrophysics, Part I: Fundamentals and Practice_ (2nd ed.). New York, NY: Springer. ISBN 978-1-4614-4283-7."
   ]
  }
 ],
 "metadata": {
  "kernelspec": {
   "display_name": "Python 3 (ipykernel)",
   "language": "python",
   "name": "python3"
  },
  "language_info": {
   "codemirror_mode": {
    "name": "ipython",
    "version": 3
   },
   "file_extension": ".py",
   "mimetype": "text/x-python",
   "name": "python",
   "nbconvert_exporter": "python",
   "pygments_lexer": "ipython3",
   "version": "3.11.4"
  }
 },
 "nbformat": 4,
 "nbformat_minor": 2
}
